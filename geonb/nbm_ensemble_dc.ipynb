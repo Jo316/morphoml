{
 "cells": [
  {
   "cell_type": "code",
   "execution_count": 3,
   "metadata": {},
   "outputs": [],
   "source": [
    "import sys \n",
    "import sys \n",
    "from keyvars import ufiles_path\n",
    "sys.path.append(ufiles_path)\n",
    "\n",
    "import uvars\n",
    "import uviz\n",
    "import uerrortab as uterror\n",
    "import pandas as pd\n",
    "import numpy as np \n",
    "import seaborn as sns \n",
    "import matplotlib.pyplot as plt \n",
    "\n",
    "\n",
    "\n",
    "from sklearn.ensemble import (\n",
    "    RandomForestRegressor,RandomForestClassifier,\n",
    "    GradientBoostingRegressor,GradientBoostingClassifier,\n",
    "    VotingRegressor,StackingRegressor,VotingClassifier,StackingClassifier)\n",
    "\n",
    "from sklearn.linear_model import BayesianRidge\n",
    "from sklearn.model_selection import train_test_split\n",
    "from pprint import pprint"
   ]
  },
  {
   "cell_type": "code",
   "execution_count": 4,
   "metadata": {},
   "outputs": [],
   "source": [
    "demcols = ['cop', 'edem', 'pband','tdemx']\n",
    "ftcols = ['cop', 'edem', 'pband', 's1', 'tdemx', 'wc', 'wc_ffth',\n",
    "       'wc_gau', 'wc_sobelm', 'wc_sobelh', 'wc_sobelv']\n",
    "\n",
    "fcolx = ['tdemx','edem', 'wc_ffth','wc_gau', 'wc_sobelm', 'wc_sobelh', 'wc_sobelv']\n",
    "tcol_c = 'pband'\n",
    "\n",
    "paths = uvars.parqts\n",
    "df = pd.read_parquet(paths[0])"
   ]
  },
  {
   "cell_type": "code",
   "execution_count": null,
   "metadata": {},
   "outputs": [],
   "source": []
  }
 ],
 "metadata": {
  "kernelspec": {
   "display_name": "dev",
   "language": "python",
   "name": "python3"
  },
  "language_info": {
   "codemirror_mode": {
    "name": "ipython",
    "version": 3
   },
   "file_extension": ".py",
   "mimetype": "text/x-python",
   "name": "python",
   "nbconvert_exporter": "python",
   "pygments_lexer": "ipython3",
   "version": "3.9.18"
  }
 },
 "nbformat": 4,
 "nbformat_minor": 2
}
